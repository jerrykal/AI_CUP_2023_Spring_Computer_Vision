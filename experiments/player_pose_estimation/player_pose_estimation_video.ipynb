{
 "cells": [
  {
   "cell_type": "markdown",
   "id": "68a0cf02-bdba-4426-a415-02b41b5b2397",
   "metadata": {},
   "source": [
    "# Player Pose Estimation (Video)"
   ]
  },
  {
   "cell_type": "code",
   "execution_count": 1,
   "id": "7c7d7139-170d-450a-9da4-1593d346076e",
   "metadata": {
    "tags": []
   },
   "outputs": [],
   "source": [
    "import os\n",
    "\n",
    "import mmcv\n",
    "import mmengine\n",
    "\n",
    "from mmpose.apis import inference_topdown\n",
    "from mmpose.apis import init_model as init_pose_estimator\n",
    "from mmpose.evaluation.functional import nms\n",
    "from mmpose.structures import merge_data_samples\n",
    "from mmpose.utils import adapt_mmdet_pipeline\n",
    "\n",
    "try:\n",
    "    from mmdet.apis import inference_detector, init_detector\n",
    "    has_mmdet = True\n",
    "except (ImportError, ModuleNotFoundError):\n",
    "    has_mmdet = False\n",
    "\n",
    "import matplotlib.pyplot as plt\n",
    "import numpy as np\n",
    "import cv2"
   ]
  },
  {
   "cell_type": "markdown",
   "id": "9b4562f5-1f64-4829-9bdb-f795195caa38",
   "metadata": {},
   "source": [
    "## Configs"
   ]
  },
  {
   "cell_type": "code",
   "execution_count": 2,
   "id": "f2c4abef-e11d-4961-8ad6-20f41a167aa7",
   "metadata": {
    "tags": []
   },
   "outputs": [],
   "source": [
    "device = \"cuda:0\"\n",
    "\n",
    "det_config = \"../../configs/mmdet/faster_rcnn_r50_fpn_coco.py\"\n",
    "det_checkpoint = \"https://download.openmmlab.com/mmdetection/v2.0/faster_rcnn/faster_rcnn_r50_fpn_1x_coco/faster_rcnn_r50_fpn_1x_coco_20200130-047c8118.pth\"\n",
    "\n",
    "pose_config = \"../../configs/mmpose/td-hm_hrnet-w48_8xb32-210e_coco-384x288.py\"\n",
    "pose_checkpoint = \"https://download.openmmlab.com/mmpose/v1/body_2d_keypoint/topdown_heatmap/coco/td-hm_hrnet-w48_8xb32-210e_coco-384x288-c161b7de_20220915.pth\"\n",
    "\n",
    "input_video = \"input.mp4\""
   ]
  },
  {
   "cell_type": "markdown",
   "id": "fa42e2a6-6e17-42d2-adff-7c5728f71d61",
   "metadata": {},
   "source": [
    "## Initialize detectors"
   ]
  },
  {
   "cell_type": "code",
   "execution_count": 3,
   "id": "ff8768e3-f19d-41e6-be49-2e5d128c77c3",
   "metadata": {
    "tags": []
   },
   "outputs": [
    {
     "name": "stdout",
     "output_type": "stream",
     "text": [
      "Loads checkpoint by http backend from path: https://download.openmmlab.com/mmdetection/v2.0/faster_rcnn/faster_rcnn_r50_fpn_1x_coco/faster_rcnn_r50_fpn_1x_coco_20200130-047c8118.pth\n",
      "Loads checkpoint by http backend from path: https://download.openmmlab.com/mmpose/v1/body_2d_keypoint/topdown_heatmap/coco/td-hm_hrnet-w48_8xb32-210e_coco-384x288-c161b7de_20220915.pth\n",
      "The model and loaded state dict do not match exactly\n",
      "\n",
      "unexpected key in source state_dict: data_preprocessor.mean, data_preprocessor.std\n",
      "\n"
     ]
    }
   ],
   "source": [
    "# Build detector\n",
    "detector = init_detector(det_config, det_checkpoint, device)\n",
    "detector.cfg = adapt_mmdet_pipeline(detector.cfg)\n",
    "\n",
    "# Build pose estimator\n",
    "pose_estimator = init_pose_estimator(pose_config, pose_checkpoint, device)"
   ]
  },
  {
   "cell_type": "markdown",
   "id": "502575ca-5cae-4bf8-8442-4de67373e97b",
   "metadata": {},
   "source": [
    "## Initialize visualizer"
   ]
  },
  {
   "cell_type": "code",
   "execution_count": 4,
   "id": "a773ed35-9da0-4473-8c84-bf25c93293c1",
   "metadata": {
    "tags": []
   },
   "outputs": [
    {
     "name": "stdout",
     "output_type": "stream",
     "text": [
      "04/23 03:34:08 - mmengine - \u001b[5m\u001b[4m\u001b[33mWARNING\u001b[0m - `Visualizer` backend is not initialized because save_dir is None.\n"
     ]
    }
   ],
   "source": [
    "# init visualizer\n",
    "from mmpose.registry import VISUALIZERS\n",
    "\n",
    "pose_estimator.cfg.visualizer.radius = 3\n",
    "pose_estimator.cfg.visualizer.alpha = 1\n",
    "pose_estimator.cfg.visualizer.line_width = 1\n",
    "visualizer = VISUALIZERS.build(pose_estimator.cfg.visualizer)\n",
    "\n",
    "# the dataset_meta is loaded from the checkpoint and\n",
    "# then pass to the model in init_pose_estimator\n",
    "visualizer.set_dataset_meta(\n",
    "    pose_estimator.dataset_meta, skeleton_style=\"mmpose\")"
   ]
  },
  {
   "cell_type": "markdown",
   "id": "f7e6c0f0-9d6b-412c-9c37-bee949ca3cfd",
   "metadata": {},
   "source": [
    "## Pose estimation"
   ]
  },
  {
   "cell_type": "code",
   "execution_count": 5,
   "id": "9e9cf856-af8a-4b2c-8ca7-768fb26f3dc0",
   "metadata": {
    "tags": []
   },
   "outputs": [],
   "source": [
    "def predict_poses(img, detector, pose_estimator):\n",
    "    # predict bbox\n",
    "    det_result = inference_detector(detector, img)\n",
    "    pred_instance = det_result.pred_instances.cpu().numpy()\n",
    "    bboxes = np.concatenate(\n",
    "        (pred_instance.bboxes, pred_instance.scores[:, None]), axis=1)\n",
    "    bboxes = bboxes[np.logical_and(pred_instance.labels == 0,\n",
    "                                   pred_instance.scores > 0.6)]\n",
    "    bboxes = bboxes[nms(bboxes, 0.3), :4]\n",
    "\n",
    "    # predict keypoints\n",
    "    pose_preds = inference_topdown(pose_estimator, img, bboxes)\n",
    "\n",
    "    return pose_preds"
   ]
  },
  {
   "cell_type": "code",
   "execution_count": 6,
   "id": "12fa31bc-6da9-434e-acd9-1528758d7561",
   "metadata": {
    "tags": []
   },
   "outputs": [],
   "source": [
    "def filter_poses(poses, court_pts):\n",
    "    \"\"\"Filter out all the poses that does not has its feet inside the court.\"\"\"\n",
    "    player_poses = []\n",
    "\n",
    "    for pose in poses:\n",
    "        pred_instances = pose.get(\"pred_instances\", None)\n",
    "        if pred_instances is None:\n",
    "            continue\n",
    "\n",
    "        keypoints = pred_instances.keypoints[0]\n",
    "        if len(keypoints) < 17:\n",
    "            continue\n",
    "\n",
    "        left_foot_coord = (int(keypoints[16][0]), int(keypoints[16][1]))\n",
    "        right_foot_coord = (int(keypoints[15][0]), int(keypoints[15][1]))\n",
    "\n",
    "        if cv2.pointPolygonTest(court_pts, left_foot_coord, False) != -1 or cv2.pointPolygonTest(court_pts, right_foot_coord, False) != -1:\n",
    "            player_poses.append(pose)\n",
    "    \n",
    "    return player_poses"
   ]
  },
  {
   "cell_type": "code",
   "execution_count": 9,
   "id": "0fc4108e-0734-4856-ab47-d4510a1a914d",
   "metadata": {
    "tags": []
   },
   "outputs": [],
   "source": [
    "import csv\n",
    "\n",
    "# Load court corners\n",
    "with open(\"court.csv\") as csv_file:\n",
    "    csv_reader = csv.DictReader(csv_file)\n",
    "    court_corners = next(csv_reader)\n",
    "\n",
    "ul = (int(court_corners[\"upper_left_x\"]), int(court_corners[\"upper_left_y\"]))\n",
    "ur = (int(court_corners[\"upper_right_x\"]), int(court_corners[\"upper_right_y\"]))\n",
    "lr = (int(court_corners[\"lower_right_x\"]), int(court_corners[\"lower_right_y\"]))\n",
    "ll = (int(court_corners[\"lower_left_x\"]), int(court_corners[\"lower_left_y\"]))\n",
    "court_pts = np.array([ul, ur, lr, ll])\n",
    "\n",
    "# Load input video\n",
    "cap = cv2.VideoCapture(input_video)\n",
    "fps = int(cap.get(cv2.CAP_PROP_FPS))\n",
    "width = int(cap.get(cv2.CAP_PROP_FRAME_WIDTH))\n",
    "height = int(cap.get(cv2.CAP_PROP_FRAME_HEIGHT))\n",
    "\n",
    "output_path = \"output.mp4\"\n",
    "fourcc = cv2.VideoWriter_fourcc(*\"mp4v\")\n",
    "out = cv2.VideoWriter(output_path, fourcc, fps, (width, height))\n",
    "\n",
    "# Process video\n",
    "while cap.isOpened():\n",
    "    ret, frame = cap.read()\n",
    "    if not ret:\n",
    "        break\n",
    "    \n",
    "    poses = predict_poses(frame, detector, pose_estimator)\n",
    "    player_poses = filter_poses(poses, court_pts)\n",
    "\n",
    "    # Visualize player poses\n",
    "    visualizer.add_datasample(\n",
    "        'result',\n",
    "        frame,\n",
    "        data_sample=merge_data_samples(player_poses),\n",
    "        draw_gt=False,\n",
    "        draw_heatmap=False,\n",
    "        draw_bbox=False,\n",
    "        show_kpt_idx=False,\n",
    "        skeleton_style=\"mmpose\",\n",
    "        show=False,\n",
    "        wait_time=0,\n",
    "        kpt_thr=0.3\n",
    "    )\n",
    "    \n",
    "    player_pose_img = visualizer.get_image()\n",
    "    out.write(player_pose_img)\n",
    "    \n",
    "cap.release()\n",
    "out.release()\n"
   ]
  }
 ],
 "metadata": {
  "kernelspec": {
   "display_name": "Python 3 (ipykernel)",
   "language": "python",
   "name": "python3"
  },
  "language_info": {
   "codemirror_mode": {
    "name": "ipython",
    "version": 3
   },
   "file_extension": ".py",
   "mimetype": "text/x-python",
   "name": "python",
   "nbconvert_exporter": "python",
   "pygments_lexer": "ipython3",
   "version": "3.9.16"
  }
 },
 "nbformat": 4,
 "nbformat_minor": 5
}
