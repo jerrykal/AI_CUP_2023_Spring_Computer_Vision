{
 "cells": [
  {
   "attachments": {},
   "cell_type": "markdown",
   "metadata": {},
   "source": [
    "Reference: https://ieeexplore.ieee.org/stamp/stamp.jsp?tp=&arnumber=9302620"
   ]
  },
  {
   "attachments": {},
   "cell_type": "markdown",
   "metadata": {},
   "source": [
    "## 1. Load trajectory data"
   ]
  },
  {
   "cell_type": "code",
   "execution_count": 1,
   "metadata": {},
   "outputs": [],
   "source": [
    "import pandas as pd\n",
    "import os\n",
    "import numpy as np\n",
    "\n",
    "data_path = \"trajectory.csv\"\n",
    "traj = pd.read_csv(data_path)\n",
    "\n",
    "coords = []\n",
    "for i in range(len(traj)):\n",
    "    if traj.Visibility[i] == 1:\n",
    "        coords.append([traj.X[i], traj.Y[i]])\n",
    "    else:\n",
    "        coords.append(None)\n"
   ]
  },
  {
   "attachments": {},
   "cell_type": "markdown",
   "metadata": {},
   "source": [
    "## 2. Visualize shuttlecock"
   ]
  },
  {
   "cell_type": "code",
   "execution_count": 2,
   "metadata": {},
   "outputs": [],
   "source": [
    "import cv2\n",
    "\n",
    "\n",
    "def plot_shuttlecock(\n",
    "    coords,\n",
    "    video_path=\"input.mp4\",\n",
    "    output_path=\"output.mp4\",\n",
    "):\n",
    "    cap = cv2.VideoCapture(video_path)\n",
    "\n",
    "    # Define the codec and create VideoWriter object\n",
    "    fourcc = cv2.VideoWriter_fourcc(*\"mp4v\")\n",
    "    out = cv2.VideoWriter(output_path, fourcc, 30.0, (1280, 720))\n",
    "\n",
    "    for i in range(len(coords)):\n",
    "        ret, frame = cap.read()\n",
    "        if not ret:\n",
    "            break\n",
    "\n",
    "        if coords[i] is not None:\n",
    "            cv2.circle(\n",
    "                frame, (int(coords[i][0]), int(coords[i][1])), 5, (0, 0, 255), -1\n",
    "            )\n",
    "\n",
    "        out.write(frame)\n",
    "\n",
    "    cap.release()\n",
    "    out.release()\n",
    "\n",
    "\n",
    "plot_shuttlecock(coords, output_path=\"tracknet_prediction.mp4\")\n"
   ]
  },
  {
   "attachments": {},
   "cell_type": "markdown",
   "metadata": {},
   "source": [
    "## 3. Denoise"
   ]
  },
  {
   "cell_type": "code",
   "execution_count": 3,
   "metadata": {},
   "outputs": [],
   "source": [
    "import math\n",
    "\n",
    "before_coords = coords.copy()\n",
    "\n",
    "# Mark shifted coordinates\n",
    "shifted_coords = []\n",
    "for i in range(1, len(coords) - 1):\n",
    "    if coords[i - 1] is None or coords[i] is None or coords[i + 1] is None:\n",
    "        continue\n",
    "    if (\n",
    "        math.dist(coords[i - 1], coords[i]) > 100\n",
    "        and math.dist(coords[i], coords[i + 1]) > 100\n",
    "    ):\n",
    "        shifted_coords.append(i)\n",
    "\n",
    "# Remove shifted coordinates\n",
    "for i in shifted_coords:\n",
    "    coords[i] = None\n",
    "\n",
    "plot_shuttlecock(coords, output_path=\"denoised_trajectory.mp4\")\n"
   ]
  },
  {
   "cell_type": "code",
   "execution_count": 4,
   "metadata": {},
   "outputs": [
    {
     "name": "stdout",
     "output_type": "stream",
     "text": [
      "Number of points before denoising: 1149\n",
      "Number of points after denoising: 1146\n"
     ]
    }
   ],
   "source": [
    "print(\"Number of points before denoising:\", len([coord for coord in before_coords if coord is not None]))\n",
    "print(\"Number of points after denoising:\", len([coord for coord in coords if coord is not None]))"
   ]
  },
  {
   "attachments": {},
   "cell_type": "markdown",
   "metadata": {},
   "source": [
    "## 4. Curve fitting"
   ]
  },
  {
   "cell_type": "code",
   "execution_count": 5,
   "metadata": {},
   "outputs": [
    {
     "name": "stderr",
     "output_type": "stream",
     "text": [
      "/home/jerrylee/.miniconda3/envs/aicup/lib/python3.9/site-packages/numpy/polynomial/polynomial.py:1362: RankWarning: The fit may be poorly conditioned\n",
      "  return pu._fit(polyvander, x, y, deg, rcond, full, w)\n",
      "/tmp/ipykernel_1154751/3242081086.py:15: ComplexWarning: Casting complex values to real discards the imaginary part\n",
      "  math.dist([x_candidate, curve_func(x_candidate)], [x, y])\n"
     ]
    }
   ],
   "source": [
    "before_coords = coords.copy()\n",
    "\n",
    "def shortest_distance_to_curve(x, y, curve_coef):\n",
    "    a = curve_coef[2]\n",
    "    b = curve_coef[1]\n",
    "    c = curve_coef[0]\n",
    "\n",
    "    # Reference: https://mathworld.wolfram.com/Point-QuadraticDistance.html\n",
    "    x_candidates = np.roots(\n",
    "        [2 * (a**2), 3 * a * b, b**2 + 2 * a * c - 2 * a * y + 1, c * b - y * b - x]\n",
    "    )\n",
    "    curve_func = np.poly1d(curve_coef[::-1])\n",
    "    return min(\n",
    "        [\n",
    "            math.dist([x_candidate, curve_func(x_candidate)], [x, y])\n",
    "            for x_candidate in x_candidates\n",
    "        ]\n",
    "    )\n",
    "\n",
    "\n",
    "front_check_dist = [None] * len(coords)\n",
    "back_check_dist = [None] * len(coords)\n",
    "\n",
    "for i in range(len(coords) - 7):\n",
    "    curve_coords = np.array([coord for coord in coords[i : i + 7] if coord is not None])\n",
    "\n",
    "    if len(curve_coords) < 3:\n",
    "        continue\n",
    "\n",
    "    x = curve_coords[:, 0]\n",
    "    y = curve_coords[:, 1]\n",
    "    curve_coef = np.polynomial.polynomial.polyfit(x, y, 2)\n",
    "\n",
    "    if i != 0 and coords[i - 1] is not None:\n",
    "        front_check_dist[i - 1] = shortest_distance_to_curve(\n",
    "            coords[i - 1][0], coords[i - 1][1], curve_coef\n",
    "        )\n",
    "\n",
    "    if i != len(coords) - 7 and coords[i + 7] is not None:\n",
    "        back_check_dist[i + 7] = shortest_distance_to_curve(\n",
    "            coords[i + 7][0], coords[i + 7][1], curve_coef\n",
    "        )\n",
    "\n",
    "for i, (f_dist, b_dist) in enumerate(zip(front_check_dist, back_check_dist)):\n",
    "    if f_dist is not None and b_dist is not None and f_dist > 100 and b_dist > 100:\n",
    "        coords[i] = None\n",
    "\n",
    "\n",
    "x = np.array([coord[0] if coord is not None else np.nan for coord in coords])\n",
    "y = np.array([coord[1] if coord is not None else np.nan for coord in coords])\n",
    "\n",
    "for i, (f_dist, b_dist) in enumerate(zip(front_check_dist, back_check_dist)):\n",
    "    if f_dist is not None and b_dist is not None and f_dist < 5 and b_dist < 5:\n",
    "        # Fill missing points in the front check window\n",
    "        missing = np.isnan(x[i - 7 : i + 1])\n",
    "        x[i - 7 : i + 1][missing] = np.interp(\n",
    "            np.nonzero(missing)[0], np.nonzero(~missing)[0], x[i - 7 : i + 1][~missing], left=np.nan, right=np.nan\n",
    "        )\n",
    "\n",
    "        curve_coords = np.array([coord for coord in coords[i - 7 : i + 1] if coord is not None])\n",
    "        curve_x = curve_coords[:, 0]\n",
    "        curve_y = curve_coords[:, 1]\n",
    "        curve_coef = np.polynomial.polynomial.polyfit(curve_x, curve_y, 2)\n",
    "\n",
    "        y[i - 7 : i + 1][missing] = np.poly1d(curve_coef[::-1])(x[i - 7 : i + 1][missing])\n",
    "\n",
    "        # Fill missing points in the back check window\n",
    "        missing = np.isnan(x[i : i + 8])\n",
    "        x[i : i + 8][missing] = np.interp(\n",
    "            np.nonzero(missing)[0], np.nonzero(~missing)[0], x[i : i + 8][~missing], left=np.nan, right=np.nan\n",
    "        )\n",
    "\n",
    "        curve_coords = np.array([coord for coord in coords[i : i + 8] if coord is not None])\n",
    "        curve_x = curve_coords[:, 0]\n",
    "        curve_y = curve_coords[:, 1]\n",
    "        curve_coef = np.polynomial.polynomial.polyfit(curve_x, curve_y, 2)\n",
    "\n",
    "        y[i : i + 8][missing] = np.poly1d(curve_coef[::-1])(x[i : i + 8][missing])  \n",
    "\n",
    "coords = [*zip(x, y)]\n",
    "coords = [None if np.isnan(coord[0]) else coord for coord in coords]\n",
    "\n",
    "plot_shuttlecock(coords, output_path=\"curve_fitting.mp4\")\n"
   ]
  },
  {
   "cell_type": "code",
   "execution_count": 6,
   "metadata": {},
   "outputs": [
    {
     "name": "stdout",
     "output_type": "stream",
     "text": [
      "Number of points before curve fitting:  1146\n",
      "Number of points after curve fitting:  1218\n"
     ]
    }
   ],
   "source": [
    "print(\"Number of points before curve fitting: \", len([coord for coord in before_coords if coord is not None]))\n",
    "print(\"Number of points after curve fitting: \", len([coord for coord in coords if coord is not None]))"
   ]
  },
  {
   "attachments": {},
   "cell_type": "markdown",
   "metadata": {},
   "source": [
    "## 5. Interpolation"
   ]
  },
  {
   "cell_type": "code",
   "execution_count": 7,
   "metadata": {},
   "outputs": [],
   "source": [
    "before_coords = coords.copy()\n",
    "\n",
    "interp_begin = None\n",
    "\n",
    "x = np.array([coord[0] if coord is not None else np.nan for coord in coords])\n",
    "y = np.array([coord[1] if coord is not None else np.nan for coord in coords])\n",
    "\n",
    "for i in range(3, len(coords) - 3):\n",
    "    if coords[i] is not None:\n",
    "        continue\n",
    "\n",
    "    if interp_begin is None:\n",
    "        if not None in coords[i - 3 : i]:\n",
    "            interp_begin = i - 3\n",
    "    else:\n",
    "        if i - interp_begin > 8:\n",
    "            interp_begin = None\n",
    "\n",
    "    if interp_begin is not None and not None in coords[i + 1 : i + 4]:\n",
    "        interp_end = i + 4\n",
    "        missing = np.isnan(x[interp_begin:interp_end])\n",
    "        x[interp_begin:interp_end][missing] = np.interp(\n",
    "            np.nonzero(missing)[0],\n",
    "            np.nonzero(~missing)[0],\n",
    "            x[interp_begin:interp_end][~missing],\n",
    "        )\n",
    "\n",
    "        curve_coords = np.array(\n",
    "            [coord for coord in coords[interp_begin:interp_end] if coord is not None]\n",
    "        )\n",
    "        curve_x = curve_coords[:, 0]\n",
    "        curve_y = curve_coords[:, 1]\n",
    "        curve_coef = np.polynomial.polynomial.polyfit(curve_x, curve_y, 2)\n",
    "\n",
    "        y[interp_begin:interp_end][missing] = np.poly1d(curve_coef[::-1])(\n",
    "            x[interp_begin:interp_end][missing]\n",
    "        )\n",
    "\n",
    "        interp_begin = None\n",
    "\n",
    "coords = [*zip(x, y)]\n",
    "coords = [None if np.isnan(coord[0]) else coord for coord in coords]\n",
    "\n",
    "plot_shuttlecock(coords, output_path=\"interpolation.mp4\")\n"
   ]
  },
  {
   "cell_type": "code",
   "execution_count": 8,
   "metadata": {},
   "outputs": [
    {
     "name": "stdout",
     "output_type": "stream",
     "text": [
      "Number of points before interpolation:  1218\n",
      "Number of points after interpolation:  1236\n"
     ]
    }
   ],
   "source": [
    "print(\"Number of points before interpolation: \", len([coord for coord in before_coords if coord is not None]))\n",
    "print(\"Number of points after interpolation: \", len([coord for coord in coords if coord is not None]))"
   ]
  }
 ],
 "metadata": {
  "kernelspec": {
   "display_name": "aicup",
   "language": "python",
   "name": "python3"
  },
  "language_info": {
   "codemirror_mode": {
    "name": "ipython",
    "version": 3
   },
   "file_extension": ".py",
   "mimetype": "text/x-python",
   "name": "python",
   "nbconvert_exporter": "python",
   "pygments_lexer": "ipython3",
   "version": "3.9.16"
  },
  "orig_nbformat": 4
 },
 "nbformat": 4,
 "nbformat_minor": 2
}
